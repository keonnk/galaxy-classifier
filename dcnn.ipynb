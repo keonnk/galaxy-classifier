{
 "cells": [
  {
   "cell_type": "code",
   "execution_count": 1,
   "metadata": {},
   "outputs": [],
   "source": [
    "from astroNN.datasets import galaxy10\n",
    "from astroNN.datasets.galaxy10 import galaxy10cls_lookup\n",
    "from tensorflow.keras.utils import to_categorical\n",
    "import numpy as np\n",
    "from tensorflow.keras.models import Sequential\n",
    "from tensorflow.keras.layers import Conv2D, MaxPooling2D, Flatten, Dense\n",
    "from sklearn.model_selection import train_test_split"
   ]
  },
  {
   "cell_type": "code",
   "execution_count": 2,
   "metadata": {},
   "outputs": [
    {
     "name": "stdout",
     "output_type": "stream",
     "text": [
      "C:\\Users\\ddaga\\.astroNN\\datasets\\Galaxy10_DECals.h5 was found!\n"
     ]
    }
   ],
   "source": [
    "# Load the dataset\n",
    "images, labels = galaxy10.load_data()\n",
    "\n",
    "# Normalize pixel values\n",
    "images = images.astype('float32') / 255.0\n",
    "\n",
    "# Convert labels to one-hot encoding\n",
    "labels = to_categorical(labels, num_classes=10)\n",
    "\n",
    "# Split the data into training and testing sets\n",
    "train_images, test_images, train_labels, test_labels = train_test_split(\n",
    "    images, labels, test_size=0.2, random_state=42\n",
    ")"
   ]
  },
  {
   "cell_type": "code",
   "execution_count": 3,
   "metadata": {},
   "outputs": [
    {
     "name": "stderr",
     "output_type": "stream",
     "text": [
      "d:\\Projects\\galaxy-classifier\\env\\lib\\site-packages\\keras\\src\\layers\\convolutional\\base_conv.py:99: UserWarning: Do not pass an `input_shape`/`input_dim` argument to a layer. When using Sequential models, prefer using an `Input(shape)` object as the first layer in the model instead.\n"
     ]
    }
   ],
   "source": [
    "model_deep = Sequential([\n",
    "    Conv2D(32, (3, 3), activation='relu', input_shape=(256, 256, 3)),\n",
    "    Conv2D(64, (3, 3), activation='relu'),\n",
    "    MaxPooling2D((2, 2)),\n",
    "    Conv2D(128, (3, 3), activation='relu'),\n",
    "    MaxPooling2D((2, 2)),\n",
    "    Flatten(),\n",
    "    Dense(128, activation='relu'),\n",
    "    Dense(10, activation='softmax')\n",
    "])"
   ]
  },
  {
   "cell_type": "code",
   "execution_count": 4,
   "metadata": {},
   "outputs": [],
   "source": [
    "model_deep.compile(optimizer='adam', loss='categorical_crossentropy', metrics=['accuracy'])\n"
   ]
  },
  {
   "cell_type": "code",
   "execution_count": 5,
   "metadata": {},
   "outputs": [
    {
     "name": "stdout",
     "output_type": "stream",
     "text": [
      "Epoch 1/10\n",
      "\u001b[1m444/444\u001b[0m \u001b[32m━━━━━━━━━━━━━━━━━━━━\u001b[0m\u001b[37m\u001b[0m \u001b[1m1003s\u001b[0m 2s/step - accuracy: 0.2142 - loss: 2.2734 - val_accuracy: 0.1454 - val_loss: 2.2279\n",
      "Epoch 2/10\n",
      "\u001b[1m444/444\u001b[0m \u001b[32m━━━━━━━━━━━━━━━━━━━━\u001b[0m\u001b[37m\u001b[0m \u001b[1m940s\u001b[0m 2s/step - accuracy: 0.1453 - loss: 2.2288 - val_accuracy: 0.1491 - val_loss: 131761975977178706878200442519552.0000\n",
      "Epoch 3/10\n",
      "\u001b[1m444/444\u001b[0m \u001b[32m━━━━━━━━━━━━━━━━━━━━\u001b[0m\u001b[37m\u001b[0m \u001b[1m938s\u001b[0m 2s/step - accuracy: 0.1437 - loss: 2.2294 - val_accuracy: 0.1491 - val_loss: 2.2620\n",
      "Epoch 4/10\n",
      "\u001b[1m444/444\u001b[0m \u001b[32m━━━━━━━━━━━━━━━━━━━━\u001b[0m\u001b[37m\u001b[0m \u001b[1m899s\u001b[0m 2s/step - accuracy: 0.1502 - loss: 2.2386 - val_accuracy: 0.1023 - val_loss: 2.2355\n",
      "Epoch 5/10\n",
      "\u001b[1m444/444\u001b[0m \u001b[32m━━━━━━━━━━━━━━━━━━━━\u001b[0m\u001b[37m\u001b[0m \u001b[1m944s\u001b[0m 2s/step - accuracy: 0.1428 - loss: 2.2226 - val_accuracy: 0.1491 - val_loss: 2.2200\n",
      "Epoch 6/10\n",
      "\u001b[1m444/444\u001b[0m \u001b[32m━━━━━━━━━━━━━━━━━━━━\u001b[0m\u001b[37m\u001b[0m \u001b[1m926s\u001b[0m 2s/step - accuracy: 0.1538 - loss: 2.2143 - val_accuracy: 0.1454 - val_loss: 2.2197\n",
      "Epoch 7/10\n",
      "\u001b[1m444/444\u001b[0m \u001b[32m━━━━━━━━━━━━━━━━━━━━\u001b[0m\u001b[37m\u001b[0m \u001b[1m910s\u001b[0m 2s/step - accuracy: 0.1489 - loss: 2.2197 - val_accuracy: 0.1454 - val_loss: 2.2198\n",
      "Epoch 8/10\n",
      "\u001b[1m444/444\u001b[0m \u001b[32m━━━━━━━━━━━━━━━━━━━━\u001b[0m\u001b[37m\u001b[0m \u001b[1m942s\u001b[0m 2s/step - accuracy: 0.1529 - loss: 2.2168 - val_accuracy: 0.1491 - val_loss: 2.2200\n",
      "Epoch 9/10\n",
      "\u001b[1m161/444\u001b[0m \u001b[32m━━━━━━━\u001b[0m\u001b[37m━━━━━━━━━━━━━\u001b[0m \u001b[1m9:31\u001b[0m 2s/step - accuracy: 0.1421 - loss: 2.2308"
     ]
    }
   ],
   "source": [
    "history_deep = model_deep.fit(train_images, train_labels, epochs=10, validation_data=(test_images, test_labels))\n"
   ]
  },
  {
   "cell_type": "code",
   "execution_count": null,
   "metadata": {},
   "outputs": [
    {
     "name": "stdout",
     "output_type": "stream",
     "text": [
      "\u001b[1m111/111\u001b[0m \u001b[32m━━━━━━━━━━━━━━━━━━━━\u001b[0m\u001b[37m\u001b[0m \u001b[1m5s\u001b[0m 45ms/step - accuracy: 0.2456 - loss: 2.9403\n",
      "Shallow CNN Test Accuracy: 0.24492672085762024\n"
     ]
    }
   ],
   "source": [
    "deep_eval = model_deep.evaluate(test_images, test_labels)\n",
    "print(f'Deep CNN Test Accuracy: {deep_eval[1]}')\n"
   ]
  }
 ],
 "metadata": {
  "kernelspec": {
   "display_name": "env",
   "language": "python",
   "name": "python3"
  },
  "language_info": {
   "codemirror_mode": {
    "name": "ipython",
    "version": 3
   },
   "file_extension": ".py",
   "mimetype": "text/x-python",
   "name": "python",
   "nbconvert_exporter": "python",
   "pygments_lexer": "ipython3",
   "version": "3.10.11"
  }
 },
 "nbformat": 4,
 "nbformat_minor": 2
}
